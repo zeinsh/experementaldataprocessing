{
 "cells": [
  {
   "cell_type": "code",
   "execution_count": 1,
   "metadata": {},
   "outputs": [],
   "source": [
    "import matplotlib.pyplot as plt\n",
    "import numpy as np"
   ]
  },
  {
   "cell_type": "markdown",
   "metadata": {},
   "source": [
    "# Helpers\n"
   ]
  },
  {
   "cell_type": "code",
   "execution_count": 7,
   "metadata": {},
   "outputs": [],
   "source": [
    "TUT_NUM=\"06\" # Lecture Number\n",
    "FIG_COUNT=0  # To give each figure identical number when saving , for sorting issues\n",
    "def saveFigure(desc):\n",
    "    \"\"\"save Figure \n",
    "    it is used after plotting it you want to save the figure\n",
    "    figures will be saved in figures directory\n",
    "    with file name format\n",
    "    parameters:\n",
    "    desc : string , describtion of the figure \n",
    "    \"\"\"\n",
    "    global FIG_COUNT\n",
    "    global TUT_NUM\n",
    "    FIG_COUNT+=1\n",
    "    plt.savefig('figures/c%s-%d-%s'%(TUT_NUM,FIG_COUNT,desc))\n",
    "def plotVector(X,desc,xlabel=\"x\",ylabel=\"f(x)\"):\n",
    "    \"\"\"\n",
    "    - plot signal X\n",
    "    - plot mean of the signal\n",
    "    parameters:\n",
    "    X: numpy array of shape (n,1)\n",
    "    desc: describtion of the plot\n",
    "    xlabel: label of x axis\n",
    "    ylabel: label of y axis\n",
    "    \"\"\"\n",
    "    N=X.shape[0]\n",
    "    xmean=np.mean(X)\n",
    "    plt.figure(desc)\n",
    "    plt.plot(X)    \n",
    "    plt.plot([0,N-1],[xmean,xmean])\n",
    "    plt.title(desc)\n",
    "    plt.xlabel(xlabel)\n",
    "    plt.ylabel(ylabel)\n",
    "\n",
    "def plotPulseTrain(X,desc):\n",
    "    \"\"\"\n",
    "    parameters:\n",
    "    X: numpy array of shape (n,1)\n",
    "    desc: describtion of the plot\n",
    "    \"\"\"\n",
    "    plt.figure(desc)\n",
    "    frame1 = plt.gca()\n",
    "    frame1.axes.yaxis.set_ticklabels([])\n",
    "    plt.stem(X)\n",
    "    plt.title(desc)\n",
    "def scaleMax(X,maxValue):\n",
    "    \"\"\"\n",
    "    parameters:\n",
    "    X: numpy array of shape (n,1)\n",
    "    maxValue: the new max value in the returned array\n",
    "    \n",
    "    return numpy array after scaling\n",
    "    \"\"\"\n",
    "    mx=np.max(X)\n",
    "    mul=maxValue/mx\n",
    "    return X*mul"
   ]
  },
  {
   "attachments": {},
   "cell_type": "markdown",
   "metadata": {},
   "source": [
    "# Convolution\n",
    "\n",
    "$y(n)=x(n)*h(n)$\n",
    "\n",
    "- Get value of convolution at position n\n",
    "\n",
    "$y(k)=\\sum_{l=1}^{M} x(k-l)h(l)\t$\n",
    "\n",
    "- M=h.shape[0] # length of signal h\n",
    "- k=point at which we will compute convolution"
   ]
  },
  {
   "cell_type": "code",
   "execution_count": 3,
   "metadata": {},
   "outputs": [],
   "source": [
    "def getYk(X,h,k):\n",
    "    \"\"\"\n",
    "    get kth value of the convolution\n",
    "    parameters:\n",
    "       X : numpy array of shape (N,1)\n",
    "       h : numpy array of shape (M,1)\n",
    "       k : scalar integer\n",
    "    returns:\n",
    "       kth value of the convolution between X and h\n",
    "    \"\"\"\n",
    "    N=X.shape[0]\n",
    "    M=h.shape[0]\n",
    "    num=min(k,M)\n",
    "    ser=[X[k-l]*h[l] for l in xrange(num) if k-l<N]\n",
    "    return sum(ser)\n",
    "def convolution(X,h):\n",
    "    \"\"\"\n",
    "    get kth value of the convolution\n",
    "    parameters:\n",
    "       X : numpy array of shape (N,1)\n",
    "       h : numpy array of shape (M,1)\n",
    "    returns:\n",
    "       the convolution between X and h\n",
    "    \"\"\"\n",
    "    return np.array([getYk(X,h,k) for k in xrange(N+M)])"
   ]
  },
  {
   "cell_type": "markdown",
   "metadata": {},
   "source": [
    "# Create pulse train\n",
    "- Get pulse every 200 sample\n",
    "- Plot pulse train"
   ]
  },
  {
   "cell_type": "code",
   "execution_count": 4,
   "metadata": {},
   "outputs": [
    {
     "data": {
      "image/png": "[encoded data removed]",
      "text/plain": [
       "<matplotlib.figure.Figure at 0x7f9f327dd690>"
      ]
     },
     "metadata": {},
     "output_type": "display_data"
    }
   ],
   "source": [
    "N=1000   # number of samples\n",
    "T=5      # sec duration of the signal\n",
    "dt=0.005 # sampling duration   T/N\n",
    "\n",
    "xn=np.zeros(N).reshape(N,1)\n",
    "xn[np.arange(0,1000,200)]=1    # pulse train every 200 sample\n",
    "\n",
    "#plotting\n",
    "desc=\"Pulse Train\"\n",
    "plotPulseTrain(xn,desc)\n",
    "saveFigure(desc)\n",
    "plt.show()"
   ]
  },
  {
   "attachments": {},
   "cell_type": "markdown",
   "metadata": {},
   "source": [
    "# Construct Signal\n",
    "\n",
    "$f(t)=sin(2\\pi f_0 t) e^{-\\alpha t}$\n",
    "- Get h(n) : sample each dt=0.005sec \n",
    "- Take first M=200 samples\n",
    "- Scale max value to be maxValue=120 \n",
    "- Plot this signal"
   ]
  },
  {
   "cell_type": "code",
   "execution_count": 5,
   "metadata": {},
   "outputs": [
    {
     "data": {
      "image/png": "[encoded data removed]",
      "text/plain": [
       "<matplotlib.figure.Figure at 0x7f9f2fae8b90>"
      ]
     },
     "metadata": {},
     "output_type": "display_data"
    }
   ],
   "source": [
    "# create signal \n",
    "# h(t)=sin(2*PI*f0*t)*exp(-alpha*t)\n",
    "\n",
    "M=200        # it is enough to take the first 200 values\n",
    "maxValue=120 # scale y values , set max value to 120\n",
    "alpha=45\n",
    "f0=14        # signal frequency\n",
    "\n",
    "t=np.arange(M).reshape((M,1))*dt    # t values at which we will take samples\n",
    "hn=np.multiply(np.sin(2*np.pi*f0*t)\n",
    "               ,np.exp(-alpha*t))   # sampling the signal h(t) \n",
    "hn=scaleMax(hn,maxValue)              # scaling y values , set max value to maxValue\n",
    "\n",
    "# plotting signal\n",
    "desc=\"h(t)=sin(2*PI*f0*t)*e^(-45t)\"\n",
    "plotVector(hn,desc,\"n\",\"h(n)\")\n",
    "saveFigure(desc)\n",
    "plt.show()"
   ]
  },
  {
   "cell_type": "markdown",
   "metadata": {},
   "source": [
    "## Convolution \n",
    "Construct convolution between signal h(n) and pulse train x(n)"
   ]
  },
  {
   "cell_type": "code",
   "execution_count": 6,
   "metadata": {},
   "outputs": [
    {
     "data": {
      "image/png": "[encoded data removed]",
      "text/plain": [
       "<matplotlib.figure.Figure at 0x7f9f2fc73e50>"
      ]
     },
     "metadata": {},
     "output_type": "display_data"
    }
   ],
   "source": [
    "# construct convolution between signal h(n) and pulse train x(n)\n",
    "yn=convolution(xn,hn)\n",
    "desc=\"convolution between h(n) and pulse train x(n)\"\n",
    "plotVector(yn,desc,\"n\",\"y(n)\")\n",
    "saveFigure(desc)\n",
    "plt.show()"
   ]
  }
 ],
 "metadata": {
  "kernelspec": {
   "display_name": "Python 2",
   "language": "python",
   "name": "python2"
  },
  "language_info": {
   "codemirror_mode": {
    "name": "ipython",
    "version": 2
   },
   "file_extension": ".py",
   "mimetype": "text/x-python",
   "name": "python",
   "nbconvert_exporter": "python",
   "pygments_lexer": "ipython2",
   "version": "2.7.12"
  }
 },
 "nbformat": 4,
 "nbformat_minor": 2
}
